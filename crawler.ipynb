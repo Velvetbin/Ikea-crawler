{
 "cells": [
  {
   "cell_type": "code",
   "execution_count": 1,
   "metadata": {},
   "outputs": [],
   "source": [
    "from selenium import webdriver\n",
    "from selenium.webdriver.chrome.service import Service\n",
    "from selenium.webdriver.common.by import By\n",
    "from selenium.webdriver.common.keys import Keys\n",
    "from selenium.webdriver.support.ui import WebDriverWait\n",
    "from selenium.webdriver.support import expected_conditions as EC\n",
    "from selenium.common.exceptions import TimeoutException\n",
    "from bs4 import BeautifulSoup\n",
    "import os\n",
    "import requests\n",
    "\n",
    "\n"
   ]
  },
  {
   "cell_type": "markdown",
   "metadata": {},
   "source": [
    "Define Function"
   ]
  },
  {
   "cell_type": "code",
   "execution_count": 2,
   "metadata": {},
   "outputs": [],
   "source": [
    "def scrape_images_from_url(url, folder_name):\n",
    "    # Setup Selenium WebDriver\n",
    "    s = Service('C:\\\\WebDriver\\\\bin\\\\chromedriver.exe')\n",
    "    driver = webdriver.Chrome(service=s)\n",
    "    driver.get(url)\n",
    "\n",
    "    # Scroll to the bottom of the page to trigger lazy loading\n",
    "    try:\n",
    "        last_height = driver.execute_script(\"return document.body.scrollHeight\")\n",
    "        while True:\n",
    "            driver.execute_script(\"window.scrollTo(0, document.body.scrollHeight);\")\n",
    "            # Wait for the page to load and check if the scroll height has changed\n",
    "            WebDriverWait(driver, 10).until(lambda driver: driver.execute_script(\"return document.body.scrollHeight\") > last_height)\n",
    "            new_height = driver.execute_script(\"return document.body.scrollHeight\")\n",
    "            if new_height == last_height:\n",
    "                break\n",
    "            last_height = new_height\n",
    "    except TimeoutException:\n",
    "        print(\"Reached the end of the page or the page loaded all content.\")\n",
    "\n",
    "    # Get the page source and close the driver\n",
    "    html = driver.page_source\n",
    "    driver.quit()\n",
    "\n",
    "    # Use Beautiful Soup to parse the HTML content\n",
    "    soup = BeautifulSoup(html, 'html.parser')\n",
    "    \n",
    "    # Find all the elements that store the image URLs\n",
    "    imgs = soup.find_all('img', class_='plp-image plp-product__image')\n",
    "    \n",
    "    print(len(imgs))\n",
    "\n",
    "    \n",
    "    #Create a folder to store the images\n",
    "    if not os.path.exists(folder_name):\n",
    "        os.makedirs(folder_name)\n",
    "    \n",
    "    \n",
    "\n",
    "    image_urls = []\n",
    "    \n",
    "    # Extract the image URLs\n",
    "    for img in imgs:\n",
    "        img_url = img['src']\n",
    "        image_urls.append(img_url)\n",
    "\n",
    "    # Save images\n",
    "    for i, img_info in enumerate(image_urls):\n",
    "        # Handle direct image URLs\n",
    "        response = requests.get(img_info)\n",
    "        with open(f'{folder_name}/{folder_name}_{i+1}.jpg', 'wb') as f:\n",
    "            f.write(response.content)\n",
    "            # print(f'Image {i} downloaded successfully')\n",
    "        \n",
    "\n",
    "\n"
   ]
  },
  {
   "cell_type": "code",
   "execution_count": null,
   "metadata": {},
   "outputs": [],
   "source": [
    "sofa_url = 'https://www.ikea.com/sa/en/cat/fabric-sofas-10661/?page=26'\n",
    "sofa = 'Ikea-sofa'\n",
    "scrape_images_from_url(sofa_url, sofa)\n"
   ]
  },
  {
   "cell_type": "code",
   "execution_count": 27,
   "metadata": {},
   "outputs": [
    {
     "name": "stdout",
     "output_type": "stream",
     "text": [
      "Reached the end of the page or the page loaded all content.\n",
      "480\n"
     ]
    }
   ],
   "source": [
    "table_url = 'https://www.ikea.com/sa/en/cat/tables-desks-fu004/?page=26'\n",
    "table = 'Ikea-table'\n",
    "scrape_images_from_url(table_url, table)"
   ]
  },
  {
   "cell_type": "code",
   "execution_count": 28,
   "metadata": {},
   "outputs": [
    {
     "name": "stdout",
     "output_type": "stream",
     "text": [
      "Reached the end of the page or the page loaded all content.\n",
      "413\n"
     ]
    }
   ],
   "source": [
    "lamp_url = 'https://www.ikea.com/sa/en/cat/lamps-li002/?page=26'\n",
    "lamp = 'Ikea-lamp'\n",
    "scrape_images_from_url(lamp_url, lamp)"
   ]
  },
  {
   "cell_type": "code",
   "execution_count": 4,
   "metadata": {},
   "outputs": [
    {
     "name": "stdout",
     "output_type": "stream",
     "text": [
      "Reached the end of the page or the page loaded all content.\n",
      "233\n"
     ]
    }
   ],
   "source": [
    "dresser_url = 'https://www.ikea.com/us/en/cat/dressers-storage-drawers-st004/?page=26'\n",
    "dresser = 'Ikea-dresser'\n",
    "scrape_images_from_url(dresser_url, dresser)"
   ]
  },
  {
   "cell_type": "code",
   "execution_count": 30,
   "metadata": {},
   "outputs": [
    {
     "name": "stdout",
     "output_type": "stream",
     "text": [
      "Reached the end of the page or the page loaded all content.\n",
      "480\n"
     ]
    }
   ],
   "source": [
    "chair_url = 'https://www.ikea.com/sa/en/cat/chairs-fu002/?page=26'\n",
    "chair = 'Ikea-chair'\n",
    "scrape_images_from_url(chair_url, chair)"
   ]
  },
  {
   "cell_type": "code",
   "execution_count": 31,
   "metadata": {},
   "outputs": [
    {
     "name": "stdout",
     "output_type": "stream",
     "text": [
      "Reached the end of the page or the page loaded all content.\n",
      "480\n"
     ]
    }
   ],
   "source": [
    "bed_url = 'https://www.ikea.com/sa/en/cat/beds-bm003/?page=26'\n",
    "bed = 'Ikea-bed'\n",
    "scrape_images_from_url(bed_url, bed)"
   ]
  }
 ],
 "metadata": {
  "kernelspec": {
   "display_name": "ml",
   "language": "python",
   "name": "python3"
  },
  "language_info": {
   "codemirror_mode": {
    "name": "ipython",
    "version": 3
   },
   "file_extension": ".py",
   "mimetype": "text/x-python",
   "name": "python",
   "nbconvert_exporter": "python",
   "pygments_lexer": "ipython3",
   "version": "3.11.7"
  }
 },
 "nbformat": 4,
 "nbformat_minor": 2
}
